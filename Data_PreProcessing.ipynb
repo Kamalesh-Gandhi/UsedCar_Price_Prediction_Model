{
 "cells": [
  {
   "cell_type": "code",
   "execution_count": 1,
   "metadata": {},
   "outputs": [],
   "source": [
    "import pandas as pd\n",
    "import numpy as np\n",
    "import seaborn as sns\n",
    "import matplotlib.pyplot as plt\n",
    "from scipy.stats import norm\n",
    "from sklearn.preprocessing import LabelEncoder\n",
    "from pandas import json_normalize\n",
    "import json"
   ]
  },
  {
   "cell_type": "code",
   "execution_count": 3,
   "metadata": {},
   "outputs": [
    {
     "name": "stdout",
     "output_type": "stream",
     "text": [
      "Error While Reading the file from DataSets\\chennai_cars.xlsx :  Missing optional dependency 'openpyxl'.  Use pip or conda to install openpyxl. \n",
      "\n",
      "Error While Reading the file from DataSets\\bangalore_cars.xlsx :  Missing optional dependency 'openpyxl'.  Use pip or conda to install openpyxl. \n",
      "\n",
      "Error While Reading the file from DataSets\\delhi_cars.xlsx :  Missing optional dependency 'openpyxl'.  Use pip or conda to install openpyxl. \n",
      "\n",
      "Error While Reading the file from DataSets\\hyderabad_cars.xlsx :  Missing optional dependency 'openpyxl'.  Use pip or conda to install openpyxl. \n",
      "\n",
      "Error While Reading the file from DataSets\\jaipur_cars.xlsx :  Missing optional dependency 'openpyxl'.  Use pip or conda to install openpyxl. \n",
      "\n",
      "Error While Reading the file from DataSets\\kolkata_cars.xlsx :  Missing optional dependency 'openpyxl'.  Use pip or conda to install openpyxl. \n",
      "\n"
     ]
    }
   ],
   "source": [
    "def Read_CSV(FilePath):\n",
    "    try:\n",
    "        df = pd.read_excel(FilePath)\n",
    "        print(f'The Excel file from {FilePath} got read successfully','\\n' )\n",
    "        return df\n",
    "\n",
    "    except Exception as e:\n",
    "        print(f'Error While Reading the file from {FilePath} : ',e,'\\n') \n",
    "\n",
    "# ------------------------------------------------------------------------------------------------------------------------------------\n",
    "\n",
    "filepath = [r'DataSets\\chennai_cars.xlsx',\n",
    "            r'DataSets\\bangalore_cars.xlsx',\n",
    "            r'DataSets\\delhi_cars.xlsx',\n",
    "            r'DataSets\\hyderabad_cars.xlsx',\n",
    "            r'DataSets\\jaipur_cars.xlsx',\n",
    "            r'DataSets\\kolkata_cars.xlsx']\n",
    "\n",
    "dfs = {}\n",
    "\n",
    "for i,path in enumerate(filepath,1):\n",
    "    dfs[f'df{i}'] = Read_CSV(path)\n"
   ]
  },
  {
   "cell_type": "code",
   "execution_count": null,
   "metadata": {},
   "outputs": [],
   "source": []
  }
 ],
 "metadata": {
  "kernelspec": {
   "display_name": "guviproj_env",
   "language": "python",
   "name": "python3"
  },
  "language_info": {
   "codemirror_mode": {
    "name": "ipython",
    "version": 3
   },
   "file_extension": ".py",
   "mimetype": "text/x-python",
   "name": "python",
   "nbconvert_exporter": "python",
   "pygments_lexer": "ipython3",
   "version": "3.13.0"
  }
 },
 "nbformat": 4,
 "nbformat_minor": 2
}
