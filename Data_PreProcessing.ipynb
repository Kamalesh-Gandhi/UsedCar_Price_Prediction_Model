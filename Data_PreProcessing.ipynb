{
 "cells": [
  {
   "cell_type": "code",
   "execution_count": 2,
   "metadata": {},
   "outputs": [],
   "source": [
    "import pandas as pd\n",
    "import numpy as np\n",
    "import seaborn as sns\n",
    "import matplotlib.pyplot as plt\n",
    "from scipy.stats import norm\n",
    "from sklearn.preprocessing import LabelEncoder\n",
    "import re\n"
   ]
  },
  {
   "cell_type": "code",
   "execution_count": 76,
   "metadata": {},
   "outputs": [],
   "source": [
    "# Adjust display options to show full content\n",
    "pd.set_option('display.max_colwidth', None)  # No truncation for column content\n",
    "pd.set_option('display.max_rows', None)      # Display all rows (set a limit if data is large)\n",
    "pd.set_option('display.max_columns', None)   # Display all columns"
   ]
  },
  {
   "cell_type": "code",
   "execution_count": 3,
   "metadata": {},
   "outputs": [
    {
     "data": {
      "text/html": [
       "<div>\n",
       "<style scoped>\n",
       "    .dataframe tbody tr th:only-of-type {\n",
       "        vertical-align: middle;\n",
       "    }\n",
       "\n",
       "    .dataframe tbody tr th {\n",
       "        vertical-align: top;\n",
       "    }\n",
       "\n",
       "    .dataframe thead th {\n",
       "        text-align: right;\n",
       "    }\n",
       "</style>\n",
       "<table border=\"1\" class=\"dataframe\">\n",
       "  <thead>\n",
       "    <tr style=\"text-align: right;\">\n",
       "      <th></th>\n",
       "      <th>city</th>\n",
       "      <th>it</th>\n",
       "      <th>ft</th>\n",
       "      <th>bt</th>\n",
       "      <th>km</th>\n",
       "      <th>transmission</th>\n",
       "      <th>ownerNo</th>\n",
       "      <th>owner</th>\n",
       "      <th>oem</th>\n",
       "      <th>model</th>\n",
       "      <th>...</th>\n",
       "      <th>Front Brake Type</th>\n",
       "      <th>Rear Brake Type</th>\n",
       "      <th>Top Speed</th>\n",
       "      <th>Acceleration</th>\n",
       "      <th>Tyre Type</th>\n",
       "      <th>No Door Numbers</th>\n",
       "      <th>Cargo Volumn</th>\n",
       "      <th>Wheel Size</th>\n",
       "      <th>Alloy Wheel Size</th>\n",
       "      <th>Ground Clearance Unladen</th>\n",
       "    </tr>\n",
       "  </thead>\n",
       "  <tbody>\n",
       "    <tr>\n",
       "      <th>0</th>\n",
       "      <td>Bangalore</td>\n",
       "      <td>0</td>\n",
       "      <td>Petrol</td>\n",
       "      <td>Hatchback</td>\n",
       "      <td>1,20,000</td>\n",
       "      <td>Manual</td>\n",
       "      <td>3</td>\n",
       "      <td>3rd Owner</td>\n",
       "      <td>Maruti</td>\n",
       "      <td>Maruti Celerio</td>\n",
       "      <td>...</td>\n",
       "      <td>Ventilated Disc</td>\n",
       "      <td>Drum</td>\n",
       "      <td>150 Kmph</td>\n",
       "      <td>15.05 Seconds</td>\n",
       "      <td>Tubeless, Radial</td>\n",
       "      <td>5.0</td>\n",
       "      <td>235-litres</td>\n",
       "      <td>NaN</td>\n",
       "      <td>NaN</td>\n",
       "      <td>NaN</td>\n",
       "    </tr>\n",
       "    <tr>\n",
       "      <th>1</th>\n",
       "      <td>Bangalore</td>\n",
       "      <td>0</td>\n",
       "      <td>Petrol</td>\n",
       "      <td>SUV</td>\n",
       "      <td>32,706</td>\n",
       "      <td>Manual</td>\n",
       "      <td>2</td>\n",
       "      <td>2nd Owner</td>\n",
       "      <td>Ford</td>\n",
       "      <td>Ford Ecosport</td>\n",
       "      <td>...</td>\n",
       "      <td>Ventilated Disc</td>\n",
       "      <td>Drum</td>\n",
       "      <td>NaN</td>\n",
       "      <td>NaN</td>\n",
       "      <td>Tubeless,Radial</td>\n",
       "      <td>4.0</td>\n",
       "      <td>352-litres</td>\n",
       "      <td>16</td>\n",
       "      <td>16</td>\n",
       "      <td>NaN</td>\n",
       "    </tr>\n",
       "    <tr>\n",
       "      <th>2</th>\n",
       "      <td>Bangalore</td>\n",
       "      <td>0</td>\n",
       "      <td>Petrol</td>\n",
       "      <td>Hatchback</td>\n",
       "      <td>11,949</td>\n",
       "      <td>Manual</td>\n",
       "      <td>1</td>\n",
       "      <td>1st Owner</td>\n",
       "      <td>Tata</td>\n",
       "      <td>Tata Tiago</td>\n",
       "      <td>...</td>\n",
       "      <td>Disc</td>\n",
       "      <td>Drum</td>\n",
       "      <td>150 kmph</td>\n",
       "      <td>14.3 Seconds</td>\n",
       "      <td>Tubeless</td>\n",
       "      <td>5.0</td>\n",
       "      <td>242-litres</td>\n",
       "      <td>14</td>\n",
       "      <td>14</td>\n",
       "      <td>NaN</td>\n",
       "    </tr>\n",
       "    <tr>\n",
       "      <th>3</th>\n",
       "      <td>Bangalore</td>\n",
       "      <td>0</td>\n",
       "      <td>Petrol</td>\n",
       "      <td>Sedan</td>\n",
       "      <td>17,794</td>\n",
       "      <td>Manual</td>\n",
       "      <td>1</td>\n",
       "      <td>1st Owner</td>\n",
       "      <td>Hyundai</td>\n",
       "      <td>Hyundai Xcent</td>\n",
       "      <td>...</td>\n",
       "      <td>Disc</td>\n",
       "      <td>Drum</td>\n",
       "      <td>172km/hr</td>\n",
       "      <td>14.2 Seconds</td>\n",
       "      <td>Tubeless,Radial</td>\n",
       "      <td>4.0</td>\n",
       "      <td>407-litres</td>\n",
       "      <td>14</td>\n",
       "      <td>14</td>\n",
       "      <td>NaN</td>\n",
       "    </tr>\n",
       "    <tr>\n",
       "      <th>4</th>\n",
       "      <td>Bangalore</td>\n",
       "      <td>0</td>\n",
       "      <td>Diesel</td>\n",
       "      <td>SUV</td>\n",
       "      <td>60,000</td>\n",
       "      <td>Manual</td>\n",
       "      <td>1</td>\n",
       "      <td>1st Owner</td>\n",
       "      <td>Maruti</td>\n",
       "      <td>Maruti SX4 S Cross</td>\n",
       "      <td>...</td>\n",
       "      <td>Ventilated Disc</td>\n",
       "      <td>Solid Disc</td>\n",
       "      <td>190 Kmph</td>\n",
       "      <td>12 Seconds</td>\n",
       "      <td>Tubeless,Radial</td>\n",
       "      <td>5.0</td>\n",
       "      <td>353-litres</td>\n",
       "      <td>16</td>\n",
       "      <td>16</td>\n",
       "      <td>NaN</td>\n",
       "    </tr>\n",
       "    <tr>\n",
       "      <th>...</th>\n",
       "      <td>...</td>\n",
       "      <td>...</td>\n",
       "      <td>...</td>\n",
       "      <td>...</td>\n",
       "      <td>...</td>\n",
       "      <td>...</td>\n",
       "      <td>...</td>\n",
       "      <td>...</td>\n",
       "      <td>...</td>\n",
       "      <td>...</td>\n",
       "      <td>...</td>\n",
       "      <td>...</td>\n",
       "      <td>...</td>\n",
       "      <td>...</td>\n",
       "      <td>...</td>\n",
       "      <td>...</td>\n",
       "      <td>...</td>\n",
       "      <td>...</td>\n",
       "      <td>...</td>\n",
       "      <td>...</td>\n",
       "      <td>...</td>\n",
       "    </tr>\n",
       "    <tr>\n",
       "      <th>8364</th>\n",
       "      <td>Kolkata</td>\n",
       "      <td>0</td>\n",
       "      <td>Petrol</td>\n",
       "      <td>Hatchback</td>\n",
       "      <td>10,000</td>\n",
       "      <td>Manual</td>\n",
       "      <td>1</td>\n",
       "      <td>1st Owner</td>\n",
       "      <td>Maruti</td>\n",
       "      <td>Maruti Celerio</td>\n",
       "      <td>...</td>\n",
       "      <td>Ventilated Disc</td>\n",
       "      <td>Drum</td>\n",
       "      <td>NaN</td>\n",
       "      <td>NaN</td>\n",
       "      <td>Tubeless, Radial</td>\n",
       "      <td>5.0</td>\n",
       "      <td>313</td>\n",
       "      <td>NaN</td>\n",
       "      <td>NaN</td>\n",
       "      <td>NaN</td>\n",
       "    </tr>\n",
       "    <tr>\n",
       "      <th>8365</th>\n",
       "      <td>Kolkata</td>\n",
       "      <td>0</td>\n",
       "      <td>Petrol</td>\n",
       "      <td>Hatchback</td>\n",
       "      <td>1,20,000</td>\n",
       "      <td>Manual</td>\n",
       "      <td>1</td>\n",
       "      <td>1st Owner</td>\n",
       "      <td>Maruti</td>\n",
       "      <td>Maruti Alto 800</td>\n",
       "      <td>...</td>\n",
       "      <td>Solid Disc</td>\n",
       "      <td>Drum</td>\n",
       "      <td>140 kmph</td>\n",
       "      <td>19 Seconds</td>\n",
       "      <td>Tubeless Tyres</td>\n",
       "      <td>5.0</td>\n",
       "      <td>177-litres</td>\n",
       "      <td>NaN</td>\n",
       "      <td>NaN</td>\n",
       "      <td>NaN</td>\n",
       "    </tr>\n",
       "    <tr>\n",
       "      <th>8366</th>\n",
       "      <td>Kolkata</td>\n",
       "      <td>0</td>\n",
       "      <td>Petrol</td>\n",
       "      <td>Sedan</td>\n",
       "      <td>50,000</td>\n",
       "      <td>Automatic</td>\n",
       "      <td>3</td>\n",
       "      <td>3rd Owner</td>\n",
       "      <td>Mercedes-Benz</td>\n",
       "      <td>Mercedes-Benz C-Class</td>\n",
       "      <td>...</td>\n",
       "      <td>Ventilated Disc</td>\n",
       "      <td>Solid Disc</td>\n",
       "      <td>230km/hr</td>\n",
       "      <td>8.8 Seconds</td>\n",
       "      <td>Tubeless,Radial</td>\n",
       "      <td>4.0</td>\n",
       "      <td>475-litres</td>\n",
       "      <td>17</td>\n",
       "      <td>17</td>\n",
       "      <td>NaN</td>\n",
       "    </tr>\n",
       "    <tr>\n",
       "      <th>8367</th>\n",
       "      <td>Kolkata</td>\n",
       "      <td>0</td>\n",
       "      <td>Petrol</td>\n",
       "      <td>Hatchback</td>\n",
       "      <td>40,000</td>\n",
       "      <td>Manual</td>\n",
       "      <td>1</td>\n",
       "      <td>1st Owner</td>\n",
       "      <td>Maruti</td>\n",
       "      <td>Maruti Ritz</td>\n",
       "      <td>...</td>\n",
       "      <td>Ventilated Disc</td>\n",
       "      <td>Drum</td>\n",
       "      <td>156 Kmph</td>\n",
       "      <td>15 Seconds</td>\n",
       "      <td>Tubeless,Radial</td>\n",
       "      <td>5.0</td>\n",
       "      <td>236-liters</td>\n",
       "      <td>14</td>\n",
       "      <td>14</td>\n",
       "      <td>NaN</td>\n",
       "    </tr>\n",
       "    <tr>\n",
       "      <th>8368</th>\n",
       "      <td>Kolkata</td>\n",
       "      <td>0</td>\n",
       "      <td>Diesel</td>\n",
       "      <td>SUV</td>\n",
       "      <td>1,20,000</td>\n",
       "      <td>Manual</td>\n",
       "      <td>2</td>\n",
       "      <td>2nd Owner</td>\n",
       "      <td>Renault</td>\n",
       "      <td>Renault Duster</td>\n",
       "      <td>...</td>\n",
       "      <td>Disc</td>\n",
       "      <td>Drum</td>\n",
       "      <td>168 Kmph</td>\n",
       "      <td>14.20 Seconds</td>\n",
       "      <td>Tubeless,Radial</td>\n",
       "      <td>5.0</td>\n",
       "      <td>410-litres</td>\n",
       "      <td>16</td>\n",
       "      <td>16</td>\n",
       "      <td>NaN</td>\n",
       "    </tr>\n",
       "  </tbody>\n",
       "</table>\n",
       "<p>8369 rows × 76 columns</p>\n",
       "</div>"
      ],
      "text/plain": [
       "           city  it      ft         bt        km transmission  ownerNo  \\\n",
       "0     Bangalore   0  Petrol  Hatchback  1,20,000       Manual        3   \n",
       "1     Bangalore   0  Petrol        SUV    32,706       Manual        2   \n",
       "2     Bangalore   0  Petrol  Hatchback    11,949       Manual        1   \n",
       "3     Bangalore   0  Petrol      Sedan    17,794       Manual        1   \n",
       "4     Bangalore   0  Diesel        SUV    60,000       Manual        1   \n",
       "...         ...  ..     ...        ...       ...          ...      ...   \n",
       "8364    Kolkata   0  Petrol  Hatchback    10,000       Manual        1   \n",
       "8365    Kolkata   0  Petrol  Hatchback  1,20,000       Manual        1   \n",
       "8366    Kolkata   0  Petrol      Sedan    50,000    Automatic        3   \n",
       "8367    Kolkata   0  Petrol  Hatchback    40,000       Manual        1   \n",
       "8368    Kolkata   0  Diesel        SUV  1,20,000       Manual        2   \n",
       "\n",
       "          owner            oem                  model  ...  Front Brake Type  \\\n",
       "0     3rd Owner         Maruti         Maruti Celerio  ...   Ventilated Disc   \n",
       "1     2nd Owner           Ford          Ford Ecosport  ...   Ventilated Disc   \n",
       "2     1st Owner           Tata             Tata Tiago  ...              Disc   \n",
       "3     1st Owner        Hyundai          Hyundai Xcent  ...             Disc    \n",
       "4     1st Owner         Maruti     Maruti SX4 S Cross  ...   Ventilated Disc   \n",
       "...         ...            ...                    ...  ...               ...   \n",
       "8364  1st Owner         Maruti         Maruti Celerio  ...   Ventilated Disc   \n",
       "8365  1st Owner         Maruti        Maruti Alto 800  ...        Solid Disc   \n",
       "8366  3rd Owner  Mercedes-Benz  Mercedes-Benz C-Class  ...   Ventilated Disc   \n",
       "8367  1st Owner         Maruti            Maruti Ritz  ...   Ventilated Disc   \n",
       "8368  2nd Owner        Renault         Renault Duster  ...              Disc   \n",
       "\n",
       "      Rear Brake Type Top Speed   Acceleration         Tyre Type  \\\n",
       "0                Drum  150 Kmph  15.05 Seconds  Tubeless, Radial   \n",
       "1                Drum       NaN            NaN   Tubeless,Radial   \n",
       "2                Drum  150 kmph   14.3 Seconds          Tubeless   \n",
       "3                Drum  172km/hr   14.2 Seconds   Tubeless,Radial   \n",
       "4          Solid Disc  190 Kmph     12 Seconds   Tubeless,Radial   \n",
       "...               ...       ...            ...               ...   \n",
       "8364             Drum       NaN            NaN  Tubeless, Radial   \n",
       "8365             Drum  140 kmph     19 Seconds    Tubeless Tyres   \n",
       "8366       Solid Disc  230km/hr    8.8 Seconds   Tubeless,Radial   \n",
       "8367             Drum  156 Kmph     15 Seconds   Tubeless,Radial   \n",
       "8368             Drum  168 Kmph  14.20 Seconds   Tubeless,Radial   \n",
       "\n",
       "      No Door Numbers  Cargo Volumn Wheel Size Alloy Wheel Size  \\\n",
       "0                 5.0    235-litres        NaN              NaN   \n",
       "1                 4.0    352-litres         16               16   \n",
       "2                 5.0    242-litres         14               14   \n",
       "3                 4.0    407-litres         14               14   \n",
       "4                 5.0    353-litres         16               16   \n",
       "...               ...           ...        ...              ...   \n",
       "8364              5.0           313        NaN              NaN   \n",
       "8365              5.0    177-litres        NaN              NaN   \n",
       "8366              4.0    475-litres         17               17   \n",
       "8367              5.0    236-liters         14               14   \n",
       "8368              5.0    410-litres         16               16   \n",
       "\n",
       "     Ground Clearance Unladen  \n",
       "0                         NaN  \n",
       "1                         NaN  \n",
       "2                         NaN  \n",
       "3                         NaN  \n",
       "4                         NaN  \n",
       "...                       ...  \n",
       "8364                      NaN  \n",
       "8365                      NaN  \n",
       "8366                      NaN  \n",
       "8367                      NaN  \n",
       "8368                      NaN  \n",
       "\n",
       "[8369 rows x 76 columns]"
      ]
     },
     "execution_count": 3,
     "metadata": {},
     "output_type": "execute_result"
    }
   ],
   "source": [
    "df_CombinedData = pd.read_csv(r'DataSets\\New_Structured_Data\\Combined_Cars_Data.csv',low_memory=False)\n",
    "df_CombinedData"
   ]
  },
  {
   "cell_type": "code",
   "execution_count": 4,
   "metadata": {},
   "outputs": [
    {
     "name": "stdout",
     "output_type": "stream",
     "text": [
      "<class 'pandas.core.frame.DataFrame'>\n",
      "RangeIndex: 8369 entries, 0 to 8368\n",
      "Data columns (total 76 columns):\n",
      " #   Column                         Non-Null Count  Dtype  \n",
      "---  ------                         --------------  -----  \n",
      " 0   city                           8369 non-null   object \n",
      " 1   it                             8369 non-null   int64  \n",
      " 2   ft                             8369 non-null   object \n",
      " 3   bt                             8365 non-null   object \n",
      " 4   km                             8369 non-null   object \n",
      " 5   transmission                   8369 non-null   object \n",
      " 6   ownerNo                        8369 non-null   int64  \n",
      " 7   owner                          8369 non-null   object \n",
      " 8   oem                            8369 non-null   object \n",
      " 9   model                          8369 non-null   object \n",
      " 10  modelYear                      8369 non-null   int64  \n",
      " 11  centralVariantId               8369 non-null   int64  \n",
      " 12  variantName                    8369 non-null   object \n",
      " 13  price                          8369 non-null   object \n",
      " 14  priceActual                    1670 non-null   object \n",
      " 15  priceSaving                    0 non-null      float64\n",
      " 16  priceFixedText                 0 non-null      float64\n",
      " 17  imgUrl                         8369 non-null   object \n",
      " 18  heading                        8369 non-null   object \n",
      " 19  desc                           8369 non-null   object \n",
      " 20  Registration Year              8317 non-null   object \n",
      " 21  Insurance Validity             8365 non-null   object \n",
      " 22  Fuel Type                      8369 non-null   object \n",
      " 23  Seats                          8363 non-null   object \n",
      " 24  Kms Driven                     8367 non-null   object \n",
      " 25  RTO                            7475 non-null   object \n",
      " 26  Ownership                      8337 non-null   object \n",
      " 27  Engine Displacement            8365 non-null   object \n",
      " 28  Transmission                   8369 non-null   object \n",
      " 29  Year of Manufacture            8349 non-null   float64\n",
      " 30  Features                       8369 non-null   int64  \n",
      " 31  Comfort & Convenience          8301 non-null   float64\n",
      " 32  Interior                       8292 non-null   float64\n",
      " 33  Exterior                       8279 non-null   float64\n",
      " 34  Safety                         8273 non-null   float64\n",
      " 35  Entertainment & Communication  7274 non-null   float64\n",
      " 36  Mileage                        8082 non-null   object \n",
      " 37  Engine                         8365 non-null   object \n",
      " 38  Max Power                      8309 non-null   object \n",
      " 39  Torque                         8309 non-null   object \n",
      " 40  Seats.1                        8363 non-null   float64\n",
      " 41  Color                          8366 non-null   object \n",
      " 42  Engine Type                    8074 non-null   object \n",
      " 43  Displacement                   8365 non-null   float64\n",
      " 44  Max Torque                     8309 non-null   object \n",
      " 45  No of Cylinder                 8338 non-null   float64\n",
      " 46  Values per Cylinder            8318 non-null   float64\n",
      " 47  Value Configuration            6153 non-null   object \n",
      " 48  Fuel Suppy System              6642 non-null   object \n",
      " 49  BoreX Stroke                   2405 non-null   object \n",
      " 50  Compression Ratio              1895 non-null   object \n",
      " 51  Turbo Charger                  7329 non-null   object \n",
      " 52  Super Charger                  6407 non-null   object \n",
      " 53  Length                         8290 non-null   object \n",
      " 54  Width                          8286 non-null   object \n",
      " 55  Height                         8290 non-null   object \n",
      " 56  Wheel Base                     8206 non-null   object \n",
      " 57  Front Tread                    4811 non-null   object \n",
      " 58  Rear Tread                     4799 non-null   object \n",
      " 59  Kerb Weight                    8310 non-null   object \n",
      " 60  Gross Weight                   3828 non-null   object \n",
      " 61  Gear Box                       8263 non-null   object \n",
      " 62  Drive Type                     6809 non-null   object \n",
      " 63  Seating Capacity               8363 non-null   float64\n",
      " 64  Steering Type                  8114 non-null   object \n",
      " 65  Turning Radius                 6769 non-null   object \n",
      " 66  Front Brake Type               8273 non-null   object \n",
      " 67  Rear Brake Type                8273 non-null   object \n",
      " 68  Top Speed                      4607 non-null   object \n",
      " 69  Acceleration                   4857 non-null   object \n",
      " 70  Tyre Type                      8292 non-null   object \n",
      " 71  No Door Numbers                8358 non-null   float64\n",
      " 72  Cargo Volumn                   6776 non-null   object \n",
      " 73  Wheel Size                     5386 non-null   object \n",
      " 74  Alloy Wheel Size               5386 non-null   object \n",
      " 75  Ground Clearance Unladen       515 non-null    object \n",
      "dtypes: float64(14), int64(5), object(57)\n",
      "memory usage: 4.9+ MB\n"
     ]
    }
   ],
   "source": [
    "df_CombinedData.info() "
   ]
  },
  {
   "cell_type": "code",
   "execution_count": 5,
   "metadata": {},
   "outputs": [
    {
     "data": {
      "text/plain": [
       "Index(['city', 'it', 'ft', 'bt', 'km', 'transmission', 'ownerNo', 'owner',\n",
       "       'oem', 'model', 'modelYear', 'centralVariantId', 'variantName', 'price',\n",
       "       'priceActual', 'priceSaving', 'priceFixedText', 'imgUrl', 'heading',\n",
       "       'desc', 'Registration Year', 'Insurance Validity', 'Fuel Type', 'Seats',\n",
       "       'Kms Driven', 'RTO', 'Ownership', 'Engine Displacement', 'Transmission',\n",
       "       'Year of Manufacture', 'Features', 'Comfort & Convenience', 'Interior',\n",
       "       'Exterior', 'Safety', 'Entertainment & Communication', 'Mileage',\n",
       "       'Engine', 'Max Power', 'Torque', 'Seats.1', 'Color', 'Engine Type',\n",
       "       'Displacement', 'Max Torque', 'No of Cylinder', 'Values per Cylinder',\n",
       "       'Value Configuration', 'Fuel Suppy System', 'BoreX Stroke',\n",
       "       'Compression Ratio', 'Turbo Charger', 'Super Charger', 'Length',\n",
       "       'Width', 'Height', 'Wheel Base', 'Front Tread', 'Rear Tread',\n",
       "       'Kerb Weight', 'Gross Weight', 'Gear Box', 'Drive Type',\n",
       "       'Seating Capacity', 'Steering Type', 'Turning Radius',\n",
       "       'Front Brake Type', 'Rear Brake Type', 'Top Speed', 'Acceleration',\n",
       "       'Tyre Type', 'No Door Numbers', 'Cargo Volumn', 'Wheel Size',\n",
       "       'Alloy Wheel Size', 'Ground Clearance Unladen'],\n",
       "      dtype='object')"
      ]
     },
     "execution_count": 5,
     "metadata": {},
     "output_type": "execute_result"
    }
   ],
   "source": [
    "df_CombinedData.columns"
   ]
  },
  {
   "cell_type": "code",
   "execution_count": 64,
   "metadata": {},
   "outputs": [],
   "source": [
    "# Dropping Columns based on the Nullvalues,uniquesvalues, unwanted data,repeated column ."
   ]
  },
  {
   "cell_type": "code",
   "execution_count": 6,
   "metadata": {},
   "outputs": [],
   "source": [
    "df_CombinedData.drop(columns=['it','priceActual','priceSaving','priceFixedText','imgUrl','heading','desc','Max Torque'],inplace=True,axis = 1)"
   ]
  },
  {
   "cell_type": "code",
   "execution_count": 7,
   "metadata": {},
   "outputs": [
    {
     "name": "stdout",
     "output_type": "stream",
     "text": [
      "<class 'pandas.core.frame.DataFrame'>\n",
      "RangeIndex: 8369 entries, 0 to 8368\n",
      "Data columns (total 68 columns):\n",
      " #   Column                         Non-Null Count  Dtype  \n",
      "---  ------                         --------------  -----  \n",
      " 0   city                           8369 non-null   object \n",
      " 1   ft                             8369 non-null   object \n",
      " 2   bt                             8365 non-null   object \n",
      " 3   km                             8369 non-null   object \n",
      " 4   transmission                   8369 non-null   object \n",
      " 5   ownerNo                        8369 non-null   int64  \n",
      " 6   owner                          8369 non-null   object \n",
      " 7   oem                            8369 non-null   object \n",
      " 8   model                          8369 non-null   object \n",
      " 9   modelYear                      8369 non-null   int64  \n",
      " 10  centralVariantId               8369 non-null   int64  \n",
      " 11  variantName                    8369 non-null   object \n",
      " 12  price                          8369 non-null   object \n",
      " 13  Registration Year              8317 non-null   object \n",
      " 14  Insurance Validity             8365 non-null   object \n",
      " 15  Fuel Type                      8369 non-null   object \n",
      " 16  Seats                          8363 non-null   object \n",
      " 17  Kms Driven                     8367 non-null   object \n",
      " 18  RTO                            7475 non-null   object \n",
      " 19  Ownership                      8337 non-null   object \n",
      " 20  Engine Displacement            8365 non-null   object \n",
      " 21  Transmission                   8369 non-null   object \n",
      " 22  Year of Manufacture            8349 non-null   float64\n",
      " 23  Features                       8369 non-null   int64  \n",
      " 24  Comfort & Convenience          8301 non-null   float64\n",
      " 25  Interior                       8292 non-null   float64\n",
      " 26  Exterior                       8279 non-null   float64\n",
      " 27  Safety                         8273 non-null   float64\n",
      " 28  Entertainment & Communication  7274 non-null   float64\n",
      " 29  Mileage                        8082 non-null   object \n",
      " 30  Engine                         8365 non-null   object \n",
      " 31  Max Power                      8309 non-null   object \n",
      " 32  Torque                         8309 non-null   object \n",
      " 33  Seats.1                        8363 non-null   float64\n",
      " 34  Color                          8366 non-null   object \n",
      " 35  Engine Type                    8074 non-null   object \n",
      " 36  Displacement                   8365 non-null   float64\n",
      " 37  No of Cylinder                 8338 non-null   float64\n",
      " 38  Values per Cylinder            8318 non-null   float64\n",
      " 39  Value Configuration            6153 non-null   object \n",
      " 40  Fuel Suppy System              6642 non-null   object \n",
      " 41  BoreX Stroke                   2405 non-null   object \n",
      " 42  Compression Ratio              1895 non-null   object \n",
      " 43  Turbo Charger                  7329 non-null   object \n",
      " 44  Super Charger                  6407 non-null   object \n",
      " 45  Length                         8290 non-null   object \n",
      " 46  Width                          8286 non-null   object \n",
      " 47  Height                         8290 non-null   object \n",
      " 48  Wheel Base                     8206 non-null   object \n",
      " 49  Front Tread                    4811 non-null   object \n",
      " 50  Rear Tread                     4799 non-null   object \n",
      " 51  Kerb Weight                    8310 non-null   object \n",
      " 52  Gross Weight                   3828 non-null   object \n",
      " 53  Gear Box                       8263 non-null   object \n",
      " 54  Drive Type                     6809 non-null   object \n",
      " 55  Seating Capacity               8363 non-null   float64\n",
      " 56  Steering Type                  8114 non-null   object \n",
      " 57  Turning Radius                 6769 non-null   object \n",
      " 58  Front Brake Type               8273 non-null   object \n",
      " 59  Rear Brake Type                8273 non-null   object \n",
      " 60  Top Speed                      4607 non-null   object \n",
      " 61  Acceleration                   4857 non-null   object \n",
      " 62  Tyre Type                      8292 non-null   object \n",
      " 63  No Door Numbers                8358 non-null   float64\n",
      " 64  Cargo Volumn                   6776 non-null   object \n",
      " 65  Wheel Size                     5386 non-null   object \n",
      " 66  Alloy Wheel Size               5386 non-null   object \n",
      " 67  Ground Clearance Unladen       515 non-null    object \n",
      "dtypes: float64(12), int64(4), object(52)\n",
      "memory usage: 4.3+ MB\n"
     ]
    }
   ],
   "source": [
    "df_CombinedData.info()"
   ]
  },
  {
   "cell_type": "code",
   "execution_count": 40,
   "metadata": {},
   "outputs": [],
   "source": [
    "#Checking the Datas of the column1 and column2 are same or Not, for Deleting the column .\n",
    "# If both are same ,you can choose either one column. "
   ]
  },
  {
   "cell_type": "code",
   "execution_count": 8,
   "metadata": {},
   "outputs": [],
   "source": [
    "def RowData_Checking(column1, column2):\n",
    "    if df_CombinedData[column1].all() == df_CombinedData[column2].all():\n",
    "        return f'All the datas are same in {column1} and {column2}'\n",
    "    else:\n",
    "        return f'Datas are different in {column1} and {column2}'"
   ]
  },
  {
   "cell_type": "code",
   "execution_count": 9,
   "metadata": {},
   "outputs": [
    {
     "name": "stdout",
     "output_type": "stream",
     "text": [
      "All the datas are same in transmission and Transmission\n",
      "-----------------------------\n",
      "All the datas are same in ft and Fuel Type\n",
      "-----------------------------\n",
      "All the datas are same in Wheel Size and Alloy Wheel Size\n",
      "-----------------------------\n"
     ]
    }
   ],
   "source": [
    "val1 = RowData_Checking('transmission', 'Transmission')\n",
    "print(val1)\n",
    "print('-----------------------------')\n",
    "\n",
    "val2 = RowData_Checking('ft', 'Fuel Type')\n",
    "print(val2)\n",
    "print('-----------------------------')\n",
    "\n",
    "val3 = RowData_Checking('Wheel Size','Alloy Wheel Size')\n",
    "print(val3)\n",
    "print('-----------------------------')"
   ]
  },
  {
   "cell_type": "code",
   "execution_count": null,
   "metadata": {},
   "outputs": [],
   "source": [
    "# Checking the Percentage of the non null values in each columns"
   ]
  },
  {
   "cell_type": "code",
   "execution_count": 10,
   "metadata": {},
   "outputs": [],
   "source": [
    "def PercentageOf_Data(Column):\n",
    "    PercentOf_NonNull = ((df_CombinedData[Column].shape[0] - df_CombinedData[Column].isna().sum()) / df_CombinedData[Column].shape[0]) * 100\n",
    "    if PercentOf_NonNull > 50 :\n",
    "        return f'Percentage of non null values of {Column} is above 50% , which is \\033[92m{PercentOf_NonNull:.2f}%\\033[0m.'\n",
    "    else :\n",
    "        return f'Percentage of non null values of {Column} is below or equal to 50% , which is \\033[91m{PercentOf_NonNull:.2f}%\\033[0m.'"
   ]
  },
  {
   "cell_type": "code",
   "execution_count": 11,
   "metadata": {},
   "outputs": [
    {
     "name": "stdout",
     "output_type": "stream",
     "text": [
      "Percentage of non null values of city is above 50% , which is \u001b[92m100.00%\u001b[0m.\n",
      "------------------------\n",
      "Percentage of non null values of ft is above 50% , which is \u001b[92m100.00%\u001b[0m.\n",
      "------------------------\n",
      "Percentage of non null values of bt is above 50% , which is \u001b[92m99.95%\u001b[0m.\n",
      "------------------------\n",
      "Percentage of non null values of km is above 50% , which is \u001b[92m100.00%\u001b[0m.\n",
      "------------------------\n",
      "Percentage of non null values of transmission is above 50% , which is \u001b[92m100.00%\u001b[0m.\n",
      "------------------------\n",
      "Percentage of non null values of ownerNo is above 50% , which is \u001b[92m100.00%\u001b[0m.\n",
      "------------------------\n",
      "Percentage of non null values of owner is above 50% , which is \u001b[92m100.00%\u001b[0m.\n",
      "------------------------\n",
      "Percentage of non null values of oem is above 50% , which is \u001b[92m100.00%\u001b[0m.\n",
      "------------------------\n",
      "Percentage of non null values of model is above 50% , which is \u001b[92m100.00%\u001b[0m.\n",
      "------------------------\n",
      "Percentage of non null values of modelYear is above 50% , which is \u001b[92m100.00%\u001b[0m.\n",
      "------------------------\n",
      "Percentage of non null values of centralVariantId is above 50% , which is \u001b[92m100.00%\u001b[0m.\n",
      "------------------------\n",
      "Percentage of non null values of variantName is above 50% , which is \u001b[92m100.00%\u001b[0m.\n",
      "------------------------\n",
      "Percentage of non null values of price is above 50% , which is \u001b[92m100.00%\u001b[0m.\n",
      "------------------------\n",
      "Percentage of non null values of Registration Year is above 50% , which is \u001b[92m99.38%\u001b[0m.\n",
      "------------------------\n",
      "Percentage of non null values of Insurance Validity is above 50% , which is \u001b[92m99.95%\u001b[0m.\n",
      "------------------------\n",
      "Percentage of non null values of Fuel Type is above 50% , which is \u001b[92m100.00%\u001b[0m.\n",
      "------------------------\n",
      "Percentage of non null values of Seats is above 50% , which is \u001b[92m99.93%\u001b[0m.\n",
      "------------------------\n",
      "Percentage of non null values of Kms Driven is above 50% , which is \u001b[92m99.98%\u001b[0m.\n",
      "------------------------\n",
      "Percentage of non null values of RTO is above 50% , which is \u001b[92m89.32%\u001b[0m.\n",
      "------------------------\n",
      "Percentage of non null values of Ownership is above 50% , which is \u001b[92m99.62%\u001b[0m.\n",
      "------------------------\n",
      "Percentage of non null values of Engine Displacement is above 50% , which is \u001b[92m99.95%\u001b[0m.\n",
      "------------------------\n",
      "Percentage of non null values of Transmission is above 50% , which is \u001b[92m100.00%\u001b[0m.\n",
      "------------------------\n",
      "Percentage of non null values of Year of Manufacture is above 50% , which is \u001b[92m99.76%\u001b[0m.\n",
      "------------------------\n",
      "Percentage of non null values of Features is above 50% , which is \u001b[92m100.00%\u001b[0m.\n",
      "------------------------\n",
      "Percentage of non null values of Comfort & Convenience is above 50% , which is \u001b[92m99.19%\u001b[0m.\n",
      "------------------------\n",
      "Percentage of non null values of Interior is above 50% , which is \u001b[92m99.08%\u001b[0m.\n",
      "------------------------\n",
      "Percentage of non null values of Exterior is above 50% , which is \u001b[92m98.92%\u001b[0m.\n",
      "------------------------\n",
      "Percentage of non null values of Safety is above 50% , which is \u001b[92m98.85%\u001b[0m.\n",
      "------------------------\n",
      "Percentage of non null values of Entertainment & Communication is above 50% , which is \u001b[92m86.92%\u001b[0m.\n",
      "------------------------\n",
      "Percentage of non null values of Mileage is above 50% , which is \u001b[92m96.57%\u001b[0m.\n",
      "------------------------\n",
      "Percentage of non null values of Engine is above 50% , which is \u001b[92m99.95%\u001b[0m.\n",
      "------------------------\n",
      "Percentage of non null values of Max Power is above 50% , which is \u001b[92m99.28%\u001b[0m.\n",
      "------------------------\n",
      "Percentage of non null values of Torque is above 50% , which is \u001b[92m99.28%\u001b[0m.\n",
      "------------------------\n",
      "Percentage of non null values of Seats.1 is above 50% , which is \u001b[92m99.93%\u001b[0m.\n",
      "------------------------\n",
      "Percentage of non null values of Color is above 50% , which is \u001b[92m99.96%\u001b[0m.\n",
      "------------------------\n",
      "Percentage of non null values of Engine Type is above 50% , which is \u001b[92m96.48%\u001b[0m.\n",
      "------------------------\n",
      "Percentage of non null values of Displacement is above 50% , which is \u001b[92m99.95%\u001b[0m.\n",
      "------------------------\n",
      "Percentage of non null values of No of Cylinder is above 50% , which is \u001b[92m99.63%\u001b[0m.\n",
      "------------------------\n",
      "Percentage of non null values of Values per Cylinder is above 50% , which is \u001b[92m99.39%\u001b[0m.\n",
      "------------------------\n",
      "Percentage of non null values of Value Configuration is above 50% , which is \u001b[92m73.52%\u001b[0m.\n",
      "------------------------\n",
      "Percentage of non null values of Fuel Suppy System is above 50% , which is \u001b[92m79.36%\u001b[0m.\n",
      "------------------------\n",
      "Percentage of non null values of BoreX Stroke is below or equal to 50% , which is \u001b[91m28.74%\u001b[0m.\n",
      "------------------------\n",
      "Percentage of non null values of Compression Ratio is below or equal to 50% , which is \u001b[91m22.64%\u001b[0m.\n",
      "------------------------\n",
      "Percentage of non null values of Turbo Charger is above 50% , which is \u001b[92m87.57%\u001b[0m.\n",
      "------------------------\n",
      "Percentage of non null values of Super Charger is above 50% , which is \u001b[92m76.56%\u001b[0m.\n",
      "------------------------\n",
      "Percentage of non null values of Length is above 50% , which is \u001b[92m99.06%\u001b[0m.\n",
      "------------------------\n",
      "Percentage of non null values of Width is above 50% , which is \u001b[92m99.01%\u001b[0m.\n",
      "------------------------\n",
      "Percentage of non null values of Height is above 50% , which is \u001b[92m99.06%\u001b[0m.\n",
      "------------------------\n",
      "Percentage of non null values of Wheel Base is above 50% , which is \u001b[92m98.05%\u001b[0m.\n",
      "------------------------\n",
      "Percentage of non null values of Front Tread is above 50% , which is \u001b[92m57.49%\u001b[0m.\n",
      "------------------------\n",
      "Percentage of non null values of Rear Tread is above 50% , which is \u001b[92m57.34%\u001b[0m.\n",
      "------------------------\n",
      "Percentage of non null values of Kerb Weight is above 50% , which is \u001b[92m99.30%\u001b[0m.\n",
      "------------------------\n",
      "Percentage of non null values of Gross Weight is below or equal to 50% , which is \u001b[91m45.74%\u001b[0m.\n",
      "------------------------\n",
      "Percentage of non null values of Gear Box is above 50% , which is \u001b[92m98.73%\u001b[0m.\n",
      "------------------------\n",
      "Percentage of non null values of Drive Type is above 50% , which is \u001b[92m81.36%\u001b[0m.\n",
      "------------------------\n",
      "Percentage of non null values of Seating Capacity is above 50% , which is \u001b[92m99.93%\u001b[0m.\n",
      "------------------------\n",
      "Percentage of non null values of Steering Type is above 50% , which is \u001b[92m96.95%\u001b[0m.\n",
      "------------------------\n",
      "Percentage of non null values of Turning Radius is above 50% , which is \u001b[92m80.88%\u001b[0m.\n",
      "------------------------\n",
      "Percentage of non null values of Front Brake Type is above 50% , which is \u001b[92m98.85%\u001b[0m.\n",
      "------------------------\n",
      "Percentage of non null values of Rear Brake Type is above 50% , which is \u001b[92m98.85%\u001b[0m.\n",
      "------------------------\n",
      "Percentage of non null values of Top Speed is above 50% , which is \u001b[92m55.05%\u001b[0m.\n",
      "------------------------\n",
      "Percentage of non null values of Acceleration is above 50% , which is \u001b[92m58.04%\u001b[0m.\n",
      "------------------------\n",
      "Percentage of non null values of Tyre Type is above 50% , which is \u001b[92m99.08%\u001b[0m.\n",
      "------------------------\n",
      "Percentage of non null values of No Door Numbers is above 50% , which is \u001b[92m99.87%\u001b[0m.\n",
      "------------------------\n",
      "Percentage of non null values of Cargo Volumn is above 50% , which is \u001b[92m80.97%\u001b[0m.\n",
      "------------------------\n",
      "Percentage of non null values of Wheel Size is above 50% , which is \u001b[92m64.36%\u001b[0m.\n",
      "------------------------\n",
      "Percentage of non null values of Alloy Wheel Size is above 50% , which is \u001b[92m64.36%\u001b[0m.\n",
      "------------------------\n",
      "Percentage of non null values of Ground Clearance Unladen is below or equal to 50% , which is \u001b[91m6.15%\u001b[0m.\n",
      "------------------------\n"
     ]
    }
   ],
   "source": [
    "for col in df_CombinedData.columns:\n",
    "    col1 = PercentageOf_Data(col)\n",
    "    print(col1)\n",
    "    print(\"------------------------\")"
   ]
  },
  {
   "cell_type": "code",
   "execution_count": null,
   "metadata": {},
   "outputs": [],
   "source": [
    "# Based on the analysis conducted on each column, a decision was made to delete the selected columns."
   ]
  },
  {
   "cell_type": "code",
   "execution_count": 12,
   "metadata": {},
   "outputs": [],
   "source": [
    "df_CombinedData.drop(columns=['Kms Driven','Ownership','owner','Year of Manufacture','Engine Displacement',\n",
    "                              'Engine','Seats.1','Seats','ft','Alloy Wheel Size','transmission','BoreX Stroke',\n",
    "                              'Compression Ratio','Gross Weight','No Door Numbers','Ground Clearance Unladen'],inplace = True, axis = 1)"
   ]
  },
  {
   "cell_type": "code",
   "execution_count": 14,
   "metadata": {},
   "outputs": [
    {
     "name": "stdout",
     "output_type": "stream",
     "text": [
      "Total No. of columns: 52\n"
     ]
    }
   ],
   "source": [
    "print(f'Total No. of columns: {df_CombinedData.shape[1]}' )"
   ]
  },
  {
   "cell_type": "code",
   "execution_count": 15,
   "metadata": {},
   "outputs": [
    {
     "data": {
      "text/html": [
       "<div>\n",
       "<style scoped>\n",
       "    .dataframe tbody tr th:only-of-type {\n",
       "        vertical-align: middle;\n",
       "    }\n",
       "\n",
       "    .dataframe tbody tr th {\n",
       "        vertical-align: top;\n",
       "    }\n",
       "\n",
       "    .dataframe thead th {\n",
       "        text-align: right;\n",
       "    }\n",
       "</style>\n",
       "<table border=\"1\" class=\"dataframe\">\n",
       "  <thead>\n",
       "    <tr style=\"text-align: right;\">\n",
       "      <th></th>\n",
       "      <th>city</th>\n",
       "      <th>bt</th>\n",
       "      <th>km</th>\n",
       "      <th>ownerNo</th>\n",
       "      <th>oem</th>\n",
       "      <th>model</th>\n",
       "      <th>modelYear</th>\n",
       "      <th>centralVariantId</th>\n",
       "      <th>variantName</th>\n",
       "      <th>price</th>\n",
       "      <th>...</th>\n",
       "      <th>Seating Capacity</th>\n",
       "      <th>Steering Type</th>\n",
       "      <th>Turning Radius</th>\n",
       "      <th>Front Brake Type</th>\n",
       "      <th>Rear Brake Type</th>\n",
       "      <th>Top Speed</th>\n",
       "      <th>Acceleration</th>\n",
       "      <th>Tyre Type</th>\n",
       "      <th>Cargo Volumn</th>\n",
       "      <th>Wheel Size</th>\n",
       "    </tr>\n",
       "  </thead>\n",
       "  <tbody>\n",
       "    <tr>\n",
       "      <th>0</th>\n",
       "      <td>Bangalore</td>\n",
       "      <td>Hatchback</td>\n",
       "      <td>1,20,000</td>\n",
       "      <td>3</td>\n",
       "      <td>Maruti</td>\n",
       "      <td>Maruti Celerio</td>\n",
       "      <td>2015</td>\n",
       "      <td>3979</td>\n",
       "      <td>VXI</td>\n",
       "      <td>₹ 4 Lakh</td>\n",
       "      <td>...</td>\n",
       "      <td>5.0</td>\n",
       "      <td>Power</td>\n",
       "      <td>4.7 metres</td>\n",
       "      <td>Ventilated Disc</td>\n",
       "      <td>Drum</td>\n",
       "      <td>150 Kmph</td>\n",
       "      <td>15.05 Seconds</td>\n",
       "      <td>Tubeless, Radial</td>\n",
       "      <td>235-litres</td>\n",
       "      <td>NaN</td>\n",
       "    </tr>\n",
       "    <tr>\n",
       "      <th>1</th>\n",
       "      <td>Bangalore</td>\n",
       "      <td>SUV</td>\n",
       "      <td>32,706</td>\n",
       "      <td>2</td>\n",
       "      <td>Ford</td>\n",
       "      <td>Ford Ecosport</td>\n",
       "      <td>2018</td>\n",
       "      <td>6087</td>\n",
       "      <td>1.5 Petrol Titanium BSIV</td>\n",
       "      <td>₹ 8.11 Lakh</td>\n",
       "      <td>...</td>\n",
       "      <td>5.0</td>\n",
       "      <td>Power</td>\n",
       "      <td>5.3 metres</td>\n",
       "      <td>Ventilated Disc</td>\n",
       "      <td>Drum</td>\n",
       "      <td>NaN</td>\n",
       "      <td>NaN</td>\n",
       "      <td>Tubeless,Radial</td>\n",
       "      <td>352-litres</td>\n",
       "      <td>16</td>\n",
       "    </tr>\n",
       "    <tr>\n",
       "      <th>2</th>\n",
       "      <td>Bangalore</td>\n",
       "      <td>Hatchback</td>\n",
       "      <td>11,949</td>\n",
       "      <td>1</td>\n",
       "      <td>Tata</td>\n",
       "      <td>Tata Tiago</td>\n",
       "      <td>2018</td>\n",
       "      <td>2983</td>\n",
       "      <td>1.2 Revotron XZ</td>\n",
       "      <td>₹ 5.85 Lakh</td>\n",
       "      <td>...</td>\n",
       "      <td>5.0</td>\n",
       "      <td>Power</td>\n",
       "      <td>4.9 meters</td>\n",
       "      <td>Disc</td>\n",
       "      <td>Drum</td>\n",
       "      <td>150 kmph</td>\n",
       "      <td>14.3 Seconds</td>\n",
       "      <td>Tubeless</td>\n",
       "      <td>242-litres</td>\n",
       "      <td>14</td>\n",
       "    </tr>\n",
       "    <tr>\n",
       "      <th>3</th>\n",
       "      <td>Bangalore</td>\n",
       "      <td>Sedan</td>\n",
       "      <td>17,794</td>\n",
       "      <td>1</td>\n",
       "      <td>Hyundai</td>\n",
       "      <td>Hyundai Xcent</td>\n",
       "      <td>2014</td>\n",
       "      <td>1867</td>\n",
       "      <td>1.2 Kappa S Option</td>\n",
       "      <td>₹ 4.62 Lakh</td>\n",
       "      <td>...</td>\n",
       "      <td>5.0</td>\n",
       "      <td>Power</td>\n",
       "      <td>4.7 metres</td>\n",
       "      <td>Disc</td>\n",
       "      <td>Drum</td>\n",
       "      <td>172km/hr</td>\n",
       "      <td>14.2 Seconds</td>\n",
       "      <td>Tubeless,Radial</td>\n",
       "      <td>407-litres</td>\n",
       "      <td>14</td>\n",
       "    </tr>\n",
       "    <tr>\n",
       "      <th>4</th>\n",
       "      <td>Bangalore</td>\n",
       "      <td>SUV</td>\n",
       "      <td>60,000</td>\n",
       "      <td>1</td>\n",
       "      <td>Maruti</td>\n",
       "      <td>Maruti SX4 S Cross</td>\n",
       "      <td>2015</td>\n",
       "      <td>4277</td>\n",
       "      <td>DDiS 200 Zeta</td>\n",
       "      <td>₹ 7.90 Lakh</td>\n",
       "      <td>...</td>\n",
       "      <td>5.0</td>\n",
       "      <td>Power</td>\n",
       "      <td>5.2 meters</td>\n",
       "      <td>Ventilated Disc</td>\n",
       "      <td>Solid Disc</td>\n",
       "      <td>190 Kmph</td>\n",
       "      <td>12 Seconds</td>\n",
       "      <td>Tubeless,Radial</td>\n",
       "      <td>353-litres</td>\n",
       "      <td>16</td>\n",
       "    </tr>\n",
       "  </tbody>\n",
       "</table>\n",
       "<p>5 rows × 52 columns</p>\n",
       "</div>"
      ],
      "text/plain": [
       "        city         bt        km  ownerNo      oem               model  \\\n",
       "0  Bangalore  Hatchback  1,20,000        3   Maruti      Maruti Celerio   \n",
       "1  Bangalore        SUV    32,706        2     Ford       Ford Ecosport   \n",
       "2  Bangalore  Hatchback    11,949        1     Tata          Tata Tiago   \n",
       "3  Bangalore      Sedan    17,794        1  Hyundai       Hyundai Xcent   \n",
       "4  Bangalore        SUV    60,000        1   Maruti  Maruti SX4 S Cross   \n",
       "\n",
       "   modelYear  centralVariantId               variantName        price  ...  \\\n",
       "0       2015              3979                       VXI     ₹ 4 Lakh  ...   \n",
       "1       2018              6087  1.5 Petrol Titanium BSIV  ₹ 8.11 Lakh  ...   \n",
       "2       2018              2983           1.2 Revotron XZ  ₹ 5.85 Lakh  ...   \n",
       "3       2014              1867        1.2 Kappa S Option  ₹ 4.62 Lakh  ...   \n",
       "4       2015              4277             DDiS 200 Zeta  ₹ 7.90 Lakh  ...   \n",
       "\n",
       "  Seating Capacity Steering Type Turning Radius Front Brake Type  \\\n",
       "0              5.0         Power     4.7 metres  Ventilated Disc   \n",
       "1              5.0         Power     5.3 metres  Ventilated Disc   \n",
       "2              5.0         Power     4.9 meters             Disc   \n",
       "3              5.0         Power     4.7 metres            Disc    \n",
       "4              5.0         Power     5.2 meters  Ventilated Disc   \n",
       "\n",
       "  Rear Brake Type  Top Speed   Acceleration         Tyre Type  Cargo Volumn  \\\n",
       "0            Drum   150 Kmph  15.05 Seconds  Tubeless, Radial    235-litres   \n",
       "1            Drum        NaN            NaN   Tubeless,Radial    352-litres   \n",
       "2            Drum   150 kmph   14.3 Seconds          Tubeless    242-litres   \n",
       "3            Drum   172km/hr   14.2 Seconds   Tubeless,Radial    407-litres   \n",
       "4      Solid Disc   190 Kmph     12 Seconds   Tubeless,Radial    353-litres   \n",
       "\n",
       "   Wheel Size  \n",
       "0         NaN  \n",
       "1          16  \n",
       "2          14  \n",
       "3          14  \n",
       "4          16  \n",
       "\n",
       "[5 rows x 52 columns]"
      ]
     },
     "execution_count": 15,
     "metadata": {},
     "output_type": "execute_result"
    }
   ],
   "source": [
    "df_CombinedData.head(5)"
   ]
  },
  {
   "cell_type": "code",
   "execution_count": 16,
   "metadata": {},
   "outputs": [
    {
     "name": "stdout",
     "output_type": "stream",
     "text": [
      "<class 'pandas.core.frame.DataFrame'>\n",
      "RangeIndex: 8369 entries, 0 to 8368\n",
      "Data columns (total 52 columns):\n",
      " #   Column                         Non-Null Count  Dtype  \n",
      "---  ------                         --------------  -----  \n",
      " 0   city                           8369 non-null   object \n",
      " 1   bt                             8365 non-null   object \n",
      " 2   km                             8369 non-null   object \n",
      " 3   ownerNo                        8369 non-null   int64  \n",
      " 4   oem                            8369 non-null   object \n",
      " 5   model                          8369 non-null   object \n",
      " 6   modelYear                      8369 non-null   int64  \n",
      " 7   centralVariantId               8369 non-null   int64  \n",
      " 8   variantName                    8369 non-null   object \n",
      " 9   price                          8369 non-null   object \n",
      " 10  Registration Year              8317 non-null   object \n",
      " 11  Insurance Validity             8365 non-null   object \n",
      " 12  Fuel Type                      8369 non-null   object \n",
      " 13  RTO                            7475 non-null   object \n",
      " 14  Transmission                   8369 non-null   object \n",
      " 15  Features                       8369 non-null   int64  \n",
      " 16  Comfort & Convenience          8301 non-null   float64\n",
      " 17  Interior                       8292 non-null   float64\n",
      " 18  Exterior                       8279 non-null   float64\n",
      " 19  Safety                         8273 non-null   float64\n",
      " 20  Entertainment & Communication  7274 non-null   float64\n",
      " 21  Mileage                        8082 non-null   object \n",
      " 22  Max Power                      8309 non-null   object \n",
      " 23  Torque                         8309 non-null   object \n",
      " 24  Color                          8366 non-null   object \n",
      " 25  Engine Type                    8074 non-null   object \n",
      " 26  Displacement                   8365 non-null   float64\n",
      " 27  No of Cylinder                 8338 non-null   float64\n",
      " 28  Values per Cylinder            8318 non-null   float64\n",
      " 29  Value Configuration            6153 non-null   object \n",
      " 30  Fuel Suppy System              6642 non-null   object \n",
      " 31  Turbo Charger                  7329 non-null   object \n",
      " 32  Super Charger                  6407 non-null   object \n",
      " 33  Length                         8290 non-null   object \n",
      " 34  Width                          8286 non-null   object \n",
      " 35  Height                         8290 non-null   object \n",
      " 36  Wheel Base                     8206 non-null   object \n",
      " 37  Front Tread                    4811 non-null   object \n",
      " 38  Rear Tread                     4799 non-null   object \n",
      " 39  Kerb Weight                    8310 non-null   object \n",
      " 40  Gear Box                       8263 non-null   object \n",
      " 41  Drive Type                     6809 non-null   object \n",
      " 42  Seating Capacity               8363 non-null   float64\n",
      " 43  Steering Type                  8114 non-null   object \n",
      " 44  Turning Radius                 6769 non-null   object \n",
      " 45  Front Brake Type               8273 non-null   object \n",
      " 46  Rear Brake Type                8273 non-null   object \n",
      " 47  Top Speed                      4607 non-null   object \n",
      " 48  Acceleration                   4857 non-null   object \n",
      " 49  Tyre Type                      8292 non-null   object \n",
      " 50  Cargo Volumn                   6776 non-null   object \n",
      " 51  Wheel Size                     5386 non-null   object \n",
      "dtypes: float64(9), int64(4), object(39)\n",
      "memory usage: 3.3+ MB\n"
     ]
    }
   ],
   "source": [
    "df_CombinedData.info()"
   ]
  },
  {
   "cell_type": "markdown",
   "metadata": {},
   "source": [
    "# Formatting And Converting the Columns"
   ]
  },
  {
   "cell_type": "code",
   "execution_count": 18,
   "metadata": {},
   "outputs": [],
   "source": [
    "def convert_to_numeric(column):\n",
    "    \n",
    "    def extract_number(value):\n",
    "        if pd.isna(value):\n",
    "            return value  # Keep NaN as is\n",
    "        try:\n",
    "            # Handle 'Lakh' and remove monetary symbols\n",
    "            value = str(value).replace('₹', '').replace('Lakh', '00000').strip()\n",
    "            # Extract numeric part using regex\n",
    "            match = re.search(r'-?\\d+(\\.\\d+)?', value.replace(',', ''))\n",
    "            if match:\n",
    "                return float(match.group())\n",
    "            else:\n",
    "                return np.nan\n",
    "        except ValueError:\n",
    "            return value  # Return NaN if conversion fails\n",
    "\n",
    "    return column.apply(extract_number)"
   ]
  },
  {
   "cell_type": "code",
   "execution_count": 19,
   "metadata": {},
   "outputs": [
    {
     "data": {
      "text/plain": [
       "0       120000\n",
       "1        32706\n",
       "2        11949\n",
       "3        17794\n",
       "4        60000\n",
       "         ...  \n",
       "8364     10000\n",
       "8365    120000\n",
       "8366     50000\n",
       "8367     40000\n",
       "8368    120000\n",
       "Name: km, Length: 8369, dtype: int64"
      ]
     },
     "execution_count": 19,
     "metadata": {},
     "output_type": "execute_result"
    }
   ],
   "source": [
    "#Formatting and Converting the km Column\n",
    "df_CombinedData['km'] = convert_to_numeric(df_CombinedData['km'])\n",
    "df_CombinedData['km'].astype(int)"
   ]
  },
  {
   "cell_type": "code",
   "execution_count": 20,
   "metadata": {},
   "outputs": [
    {
     "data": {
      "text/plain": [
       "0       400000\n",
       "1       811000\n",
       "2       585000\n",
       "3       462000\n",
       "4       790000\n",
       "         ...  \n",
       "8364    509999\n",
       "8365    180000\n",
       "8366    550000\n",
       "8367    140000\n",
       "8368    500000\n",
       "Name: price, Length: 8369, dtype: int64"
      ]
     },
     "execution_count": 20,
     "metadata": {},
     "output_type": "execute_result"
    }
   ],
   "source": [
    "#Formatting and Converting the Price Column \n",
    "df_CombinedData['price'] = convert_to_numeric(df_CombinedData['price']) * 100000\n",
    "df_CombinedData['price'].astype(int)"
   ]
  },
  {
   "cell_type": "code",
   "execution_count": 21,
   "metadata": {},
   "outputs": [
    {
     "data": {
      "text/plain": [
       "0       23.10\n",
       "1       17.00\n",
       "2       23.84\n",
       "3       19.10\n",
       "4       23.65\n",
       "        ...  \n",
       "8364    25.24\n",
       "8365    22.74\n",
       "8366    11.74\n",
       "8367    18.50\n",
       "8368    19.72\n",
       "Name: Mileage, Length: 8369, dtype: float64"
      ]
     },
     "execution_count": 21,
     "metadata": {},
     "output_type": "execute_result"
    }
   ],
   "source": [
    "#Formatting and Converting the Mileage Column \n",
    "df_CombinedData['Mileage'] = convert_to_numeric(df_CombinedData['Mileage'])\n",
    "df_CombinedData['Mileage']"
   ]
  },
  {
   "cell_type": "code",
   "execution_count": null,
   "metadata": {},
   "outputs": [],
   "source": [
    "#Formatting and Converting the Max Power Column\n",
    "df_CombinedData['Max Power'] = convert_to_numeric( df_CombinedData['Max Power'] )\n",
    "df_CombinedData['Max Power']"
   ]
  },
  {
   "cell_type": "code",
   "execution_count": 34,
   "metadata": {},
   "outputs": [
    {
     "data": {
      "text/plain": [
       "0        90.00\n",
       "1       150.00\n",
       "2       114.00\n",
       "3       113.75\n",
       "4       200.00\n",
       "         ...  \n",
       "8364     89.00\n",
       "8365     69.00\n",
       "8366    285.00\n",
       "8367    114.00\n",
       "8368    245.00\n",
       "Name: Torque, Length: 8369, dtype: float64"
      ]
     },
     "execution_count": 34,
     "metadata": {},
     "output_type": "execute_result"
    }
   ],
   "source": [
    "#Formatting and Converting the Torque Column\n",
    "df_CombinedData['Torque'] = convert_to_numeric( df_CombinedData['Torque'] )\n",
    "df_CombinedData['Torque']"
   ]
  },
  {
   "cell_type": "code",
   "execution_count": null,
   "metadata": {},
   "outputs": [
    {
     "name": "stdout",
     "output_type": "stream",
     "text": [
      "Processed column: Length\n",
      "0    3715.0\n",
      "1    3998.0\n",
      "2    3746.0\n",
      "3    3995.0\n",
      "4    4300.0\n",
      "Name: Length, dtype: float64\n",
      "Total Null values: 79\n",
      "---------------------------------------------------\n",
      "Processed column: Width\n",
      "0    1635.0\n",
      "1    1765.0\n",
      "2    1647.0\n",
      "3    1660.0\n",
      "4    1785.0\n",
      "Name: Width, dtype: float64\n",
      "Total Null values: 83\n",
      "---------------------------------------------------\n",
      "Processed column: Height\n",
      "0    1565.0\n",
      "1    1647.0\n",
      "2    1535.0\n",
      "3    1520.0\n",
      "4    1595.0\n",
      "Name: Height, dtype: float64\n",
      "Total Null values: 79\n",
      "---------------------------------------------------\n",
      "Processed column: Wheel Base\n",
      "0    2425.0\n",
      "1    2519.0\n",
      "2    2400.0\n",
      "3    2425.0\n",
      "4    2600.0\n",
      "Name: Wheel Base, dtype: float64\n",
      "Total Null values: 163\n",
      "---------------------------------------------------\n",
      "Processed column: Front Tread\n",
      "0    1420.0\n",
      "1       NaN\n",
      "2    1400.0\n",
      "3    1479.0\n",
      "4       NaN\n",
      "Name: Front Tread, dtype: float64\n",
      "Total Null values: 3558\n",
      "---------------------------------------------------\n",
      "Processed column: Rear Tread\n",
      "0    1410.0\n",
      "1       NaN\n",
      "2    1420.0\n",
      "3    1493.0\n",
      "4       NaN\n",
      "Name: Rear Tread, dtype: float64\n",
      "Total Null values: 3570\n",
      "---------------------------------------------------\n"
     ]
    }
   ],
   "source": [
    "Column_mm = ['Length','Width', 'Height', 'Wheel Base', 'Front Tread', 'Rear Tread']\n",
    "\n",
    "for i in Column_mm:\n",
    "    try:\n",
    "        # Attempt to process the column with the convert_to_numeric function\n",
    "        df_CombinedData[i] = convert_to_numeric(df_CombinedData[i])\n",
    "        print(f\"Processed column: {i}\")\n",
    "        print(df_CombinedData[i].head())  # Display the first few rows for verification\n",
    "        print('Total Null values:', df_CombinedData[i].isna().sum())\n",
    "        print('---------------------------------------------------')\n",
    "    except Exception as e:\n",
    "        # Catch and display any errors that occur during processing\n",
    "        print(f\"Error processing column {i}: {e}\")\n",
    "        print('---------------------------------------------------')  \n"
   ]
  },
  {
   "cell_type": "code",
   "execution_count": 42,
   "metadata": {},
   "outputs": [
    {
     "name": "stdout",
     "output_type": "stream",
     "text": [
      "Processed column: Kerb Weight\n",
      "0     835.0\n",
      "1    1242.0\n",
      "2    1012.0\n",
      "3    1180.0\n",
      "4    1230.0\n",
      "Name: Kerb Weight, dtype: float64\n",
      "Total Null values: 60\n",
      "---------------------------------------------------\n",
      "Processed column: Gear Box\n",
      "0    5.0\n",
      "1    5.0\n",
      "2    5.0\n",
      "3    5.0\n",
      "4    5.0\n",
      "Name: Gear Box, dtype: float64\n",
      "Total Null values: 326\n",
      "---------------------------------------------------\n",
      "Processed column: Turning Radius\n",
      "0    4.7\n",
      "1    5.3\n",
      "2    4.9\n",
      "3    4.7\n",
      "4    5.2\n",
      "Name: Turning Radius, dtype: float64\n",
      "Total Null values: 1600\n",
      "---------------------------------------------------\n",
      "Processed column: Top Speed\n",
      "0    150.0\n",
      "1      NaN\n",
      "2    150.0\n",
      "3    172.0\n",
      "4    190.0\n",
      "Name: Top Speed, dtype: float64\n",
      "Total Null values: 3787\n",
      "---------------------------------------------------\n",
      "Processed column: Acceleration\n",
      "0    15.05\n",
      "1      NaN\n",
      "2    14.30\n",
      "3    14.20\n",
      "4    12.00\n",
      "Name: Acceleration, dtype: float64\n",
      "Total Null values: 3512\n",
      "---------------------------------------------------\n",
      "Processed column: Cargo Volumn\n",
      "0    235.0\n",
      "1    352.0\n",
      "2    242.0\n",
      "3    407.0\n",
      "4    353.0\n",
      "Name: Cargo Volumn, dtype: float64\n",
      "Total Null values: 1593\n",
      "---------------------------------------------------\n"
     ]
    }
   ],
   "source": [
    "Column_mm1 = ['Kerb Weight','Gear Box', 'Turning Radius', 'Top Speed', 'Acceleration', 'Cargo Volumn']\n",
    "\n",
    "for i in Column_mm1:\n",
    "    try:\n",
    "        # Attempt to process the column with the convert_to_numeric function\n",
    "        df_CombinedData[i] = convert_to_numeric(df_CombinedData[i])\n",
    "        print(f\"Processed column: {i}\")\n",
    "        print(df_CombinedData[i].head())  # Display the first few rows for verification\n",
    "        print('Total Null values:', df_CombinedData[i].isna().sum())\n",
    "        print('---------------------------------------------------')\n",
    "    except Exception as e:\n",
    "        # Catch and display any errors that occur during processing\n",
    "        print(f\"Error processing column {i}: {e}\")\n",
    "        print('---------------------------------------------------') "
   ]
  },
  {
   "cell_type": "code",
   "execution_count": 46,
   "metadata": {},
   "outputs": [
    {
     "data": {
      "text/plain": [
       "0        NaN\n",
       "1       16.0\n",
       "2       14.0\n",
       "3       14.0\n",
       "4       16.0\n",
       "        ... \n",
       "8364     NaN\n",
       "8365     NaN\n",
       "8366    17.0\n",
       "8367    14.0\n",
       "8368    16.0\n",
       "Name: Wheel Size, Length: 8369, dtype: float64"
      ]
     },
     "execution_count": 46,
     "metadata": {},
     "output_type": "execute_result"
    }
   ],
   "source": [
    "#Formatting and Converting the Torque Column\n",
    "df_CombinedData['Wheel Size'] = convert_to_numeric( df_CombinedData['Wheel Size'] )\n",
    "df_CombinedData['Wheel Size']"
   ]
  },
  {
   "cell_type": "code",
   "execution_count": null,
   "metadata": {},
   "outputs": [],
   "source": [
    "#Formatting and Converting the Registration Year Column to int data type"
   ]
  },
  {
   "cell_type": "code",
   "execution_count": 22,
   "metadata": {},
   "outputs": [],
   "source": [
    "def extract_years(column):\n",
    "\n",
    "    def extract_year(value):\n",
    "        if pd.isna(value):\n",
    "            return np.nan  # Keep NaN as is\n",
    "        try:\n",
    "            # Extract years (two or four digits) using regex\n",
    "            match = re.search(r'(\\d{4}|\\d{2})', str(value))\n",
    "            if match:\n",
    "                year = match.group()\n",
    "                # Convert two-digit years to four-digit (assuming 2000s)\n",
    "                return int(year) if len(year) == 4 else int('20' + year)\n",
    "            else:\n",
    "                return value\n",
    "        except ValueError:\n",
    "            return value  # Return existing value if conversion fails\n",
    "\n",
    "    return column.apply(extract_year)"
   ]
  },
  {
   "cell_type": "code",
   "execution_count": 23,
   "metadata": {},
   "outputs": [
    {
     "data": {
      "text/plain": [
       "0       2015.0\n",
       "1       2018.0\n",
       "2       2018.0\n",
       "3       2014.0\n",
       "4       2015.0\n",
       "         ...  \n",
       "8364    2022.0\n",
       "8365    2014.0\n",
       "8366    2011.0\n",
       "8367    2012.0\n",
       "8368    2017.0\n",
       "Name: Registration Year, Length: 8369, dtype: float64"
      ]
     },
     "execution_count": 23,
     "metadata": {},
     "output_type": "execute_result"
    }
   ],
   "source": [
    "# Apply the function\n",
    "\n",
    "df_CombinedData['Registration Year'] = extract_years(df_CombinedData['Registration Year'])\n",
    "df_CombinedData['Registration Year']"
   ]
  },
  {
   "cell_type": "code",
   "execution_count": 47,
   "metadata": {},
   "outputs": [
    {
     "name": "stdout",
     "output_type": "stream",
     "text": [
      "<class 'pandas.core.frame.DataFrame'>\n",
      "RangeIndex: 8369 entries, 0 to 8368\n",
      "Data columns (total 52 columns):\n",
      " #   Column                         Non-Null Count  Dtype  \n",
      "---  ------                         --------------  -----  \n",
      " 0   city                           8369 non-null   object \n",
      " 1   bt                             8365 non-null   object \n",
      " 2   km                             8369 non-null   float64\n",
      " 3   ownerNo                        8369 non-null   int64  \n",
      " 4   oem                            8369 non-null   object \n",
      " 5   model                          8369 non-null   object \n",
      " 6   modelYear                      8369 non-null   int64  \n",
      " 7   centralVariantId               8369 non-null   int64  \n",
      " 8   variantName                    8369 non-null   object \n",
      " 9   price                          8369 non-null   float64\n",
      " 10  Registration Year              8317 non-null   float64\n",
      " 11  Insurance Validity             8365 non-null   object \n",
      " 12  Fuel Type                      8369 non-null   object \n",
      " 13  RTO                            7475 non-null   object \n",
      " 14  Transmission                   8369 non-null   object \n",
      " 15  Features                       8369 non-null   int64  \n",
      " 16  Comfort & Convenience          8301 non-null   float64\n",
      " 17  Interior                       8292 non-null   float64\n",
      " 18  Exterior                       8279 non-null   float64\n",
      " 19  Safety                         8273 non-null   float64\n",
      " 20  Entertainment & Communication  7274 non-null   float64\n",
      " 21  Mileage                        8082 non-null   float64\n",
      " 22  Max Power                      8309 non-null   float64\n",
      " 23  Torque                         8309 non-null   float64\n",
      " 24  Color                          8366 non-null   object \n",
      " 25  Engine Type                    8074 non-null   object \n",
      " 26  Displacement                   8365 non-null   float64\n",
      " 27  No of Cylinder                 8338 non-null   float64\n",
      " 28  Values per Cylinder            8318 non-null   float64\n",
      " 29  Value Configuration            6153 non-null   object \n",
      " 30  Fuel Suppy System              6642 non-null   object \n",
      " 31  Turbo Charger                  7329 non-null   object \n",
      " 32  Super Charger                  6407 non-null   object \n",
      " 33  Length                         8290 non-null   float64\n",
      " 34  Width                          8286 non-null   float64\n",
      " 35  Height                         8290 non-null   float64\n",
      " 36  Wheel Base                     8206 non-null   float64\n",
      " 37  Front Tread                    4811 non-null   float64\n",
      " 38  Rear Tread                     4799 non-null   float64\n",
      " 39  Kerb Weight                    8309 non-null   float64\n",
      " 40  Gear Box                       8043 non-null   float64\n",
      " 41  Drive Type                     6809 non-null   object \n",
      " 42  Seating Capacity               8363 non-null   float64\n",
      " 43  Steering Type                  8114 non-null   object \n",
      " 44  Turning Radius                 6769 non-null   float64\n",
      " 45  Front Brake Type               8273 non-null   object \n",
      " 46  Rear Brake Type                8273 non-null   object \n",
      " 47  Top Speed                      4582 non-null   float64\n",
      " 48  Acceleration                   4857 non-null   float64\n",
      " 49  Tyre Type                      8292 non-null   object \n",
      " 50  Cargo Volumn                   6776 non-null   float64\n",
      " 51  Wheel Size                     5386 non-null   float64\n",
      "dtypes: float64(28), int64(4), object(20)\n",
      "memory usage: 3.3+ MB\n"
     ]
    }
   ],
   "source": [
    "df_CombinedData.info()"
   ]
  },
  {
   "cell_type": "markdown",
   "metadata": {},
   "source": [
    "# Handling Null Values in the Columns"
   ]
  },
  {
   "cell_type": "markdown",
   "metadata": {},
   "source": [
    "1, column : 'bt'"
   ]
  },
  {
   "cell_type": "code",
   "execution_count": 50,
   "metadata": {},
   "outputs": [
    {
     "data": {
      "text/plain": [
       "np.int64(1)"
      ]
     },
     "execution_count": 50,
     "metadata": {},
     "output_type": "execute_result"
    }
   ],
   "source": [
    "# Fill NaN values in 'bt' based on the mode of each 'Model'\n",
    "for model in df_CombinedData['model'].unique():\n",
    "    mode_value = df_CombinedData.loc[df_CombinedData['model'] == model, 'bt'].mode()\n",
    "    if not mode_value.empty:\n",
    "        df_CombinedData.loc[(df_CombinedData['model'] == model) & (df_CombinedData['bt'].isna()), 'bt'] = mode_value[0]\n",
    "\n",
    "df_CombinedData['bt'].isna().sum()"
   ]
  },
  {
   "cell_type": "code",
   "execution_count": 52,
   "metadata": {},
   "outputs": [],
   "source": [
    "#Externally handling the null values for the Toyoto Vellfire\n",
    "df_CombinedData['bt'] = df_CombinedData['bt'].fillna('Muv')"
   ]
  },
  {
   "cell_type": "code",
   "execution_count": 53,
   "metadata": {},
   "outputs": [
    {
     "data": {
      "text/plain": [
       "np.int64(0)"
      ]
     },
     "execution_count": 53,
     "metadata": {},
     "output_type": "execute_result"
    }
   ],
   "source": [
    "df_CombinedData['bt'].isna().sum()"
   ]
  },
  {
   "cell_type": "markdown",
   "metadata": {},
   "source": [
    "2, column: 'Registration Year'"
   ]
  },
  {
   "cell_type": "code",
   "execution_count": 55,
   "metadata": {},
   "outputs": [],
   "source": [
    "#Filling Null values of Registration Year by corresponding values of modelYear\n",
    "df_CombinedData['Registration Year'] = df_CombinedData['Registration Year'].fillna(df_CombinedData['modelYear'])"
   ]
  },
  {
   "cell_type": "code",
   "execution_count": 56,
   "metadata": {},
   "outputs": [
    {
     "data": {
      "text/plain": [
       "np.int64(0)"
      ]
     },
     "execution_count": 56,
     "metadata": {},
     "output_type": "execute_result"
    }
   ],
   "source": [
    "df_CombinedData['Registration Year'].isna().sum()"
   ]
  },
  {
   "cell_type": "markdown",
   "metadata": {},
   "source": [
    "3, column: 'Insurance Validity'"
   ]
  },
  {
   "cell_type": "code",
   "execution_count": 58,
   "metadata": {},
   "outputs": [
    {
     "data": {
      "text/plain": [
       "array(['Third Party insurance', 'Comprehensive', 'Third Party',\n",
       "       'Zero Dep', nan, '2', '1', 'Not Available'], dtype=object)"
      ]
     },
     "execution_count": 58,
     "metadata": {},
     "output_type": "execute_result"
    }
   ],
   "source": [
    "#Checking the Unique Values of the Insurance Validity column\n",
    "df_CombinedData['Insurance Validity'].unique()"
   ]
  },
  {
   "cell_type": "code",
   "execution_count": 61,
   "metadata": {},
   "outputs": [],
   "source": [
    "# Step 1: Replace 'Third Party insurance' with 'Third Party'\n",
    "df_CombinedData['Insurance Validity'] = df_CombinedData['Insurance Validity'].replace(\n",
    "    'Third Party insurance', 'Third Party'\n",
    ")\n",
    "\n",
    "# Step 2: Replace '1' with 'Comprehensive' and '2' with 'Third Party'\n",
    "df_CombinedData['Insurance Validity'] = df_CombinedData['Insurance Validity'].replace({\n",
    "    '2': 'Third Party',\n",
    "    '1': 'Comprehensive'\n",
    "})\n",
    "\n",
    "# Step 3: Handle NaN values by replacing with 'Not Available'\n",
    "df_CombinedData['Insurance Validity'] = df_CombinedData['Insurance Validity'].fillna('Not Available')"
   ]
  },
  {
   "cell_type": "code",
   "execution_count": 62,
   "metadata": {},
   "outputs": [
    {
     "data": {
      "text/plain": [
       "np.int64(0)"
      ]
     },
     "execution_count": 62,
     "metadata": {},
     "output_type": "execute_result"
    }
   ],
   "source": [
    "df_CombinedData['Insurance Validity'].isna().sum()"
   ]
  },
  {
   "cell_type": "markdown",
   "metadata": {},
   "source": [
    "4, column: 'RTO'"
   ]
  },
  {
   "cell_type": "code",
   "execution_count": 67,
   "metadata": {},
   "outputs": [],
   "source": [
    "# Define a function to fill NaN values with the mode of the group\n",
    "def fill_with_mode(group):\n",
    "    return group.fillna(group.mode().iloc[0]) if not group.mode().empty else group"
   ]
  },
  {
   "cell_type": "code",
   "execution_count": null,
   "metadata": {},
   "outputs": [],
   "source": [
    "# Group by 'City' and apply the function to the 'RTO' column\n",
    "df_CombinedData['RTO'] = df_CombinedData.groupby('city')['RTO'].transform(fill_with_mode)"
   ]
  },
  {
   "cell_type": "code",
   "execution_count": 64,
   "metadata": {},
   "outputs": [
    {
     "data": {
      "text/plain": [
       "np.int64(0)"
      ]
     },
     "execution_count": 64,
     "metadata": {},
     "output_type": "execute_result"
    }
   ],
   "source": [
    "df_CombinedData['RTO'].isna().sum()"
   ]
  },
  {
   "cell_type": "markdown",
   "metadata": {},
   "source": [
    "5, column: 'Comfort & Convenience'"
   ]
  },
  {
   "cell_type": "code",
   "execution_count": 65,
   "metadata": {},
   "outputs": [
    {
     "data": {
      "text/plain": [
       "array([10., 17., 14., 16., 21., 13., 11., 20., 22., 15., 26., 19., 25.,\n",
       "        8., 31., 32., 30., 18.,  6., 23., 24.,  5.,  9., 12., 28., 27.,\n",
       "        7., 29., nan,  2.,  4.,  3.,  1., 35., 33., 34., 37.])"
      ]
     },
     "execution_count": 65,
     "metadata": {},
     "output_type": "execute_result"
    }
   ],
   "source": [
    "df_CombinedData['Comfort & Convenience'].unique()"
   ]
  },
  {
   "cell_type": "code",
   "execution_count": 69,
   "metadata": {},
   "outputs": [],
   "source": [
    "# Group by 'Model' and apply the function to the 'Comfort & Convenience' column\n",
    "df_CombinedData['Comfort & Convenience'] = df_CombinedData.groupby('model')['Comfort & Convenience'].transform(fill_with_mode)"
   ]
  },
  {
   "cell_type": "code",
   "execution_count": 72,
   "metadata": {},
   "outputs": [
    {
     "data": {
      "text/plain": [
       "np.int64(13)"
      ]
     },
     "execution_count": 72,
     "metadata": {},
     "output_type": "execute_result"
    }
   ],
   "source": [
    "#checking for nan values\n",
    "df_CombinedData['Comfort & Convenience'].isna().sum()"
   ]
  },
  {
   "cell_type": "code",
   "execution_count": 74,
   "metadata": {},
   "outputs": [],
   "source": [
    "# As filling Null values by grouping the method , still nan values are there . so we are using mode to fill the nan values\n",
    "df_CombinedData['Comfort & Convenience'] = df_CombinedData['Comfort & Convenience'].fillna(df_CombinedData['Comfort & Convenience'].mode()[0])"
   ]
  },
  {
   "cell_type": "code",
   "execution_count": 76,
   "metadata": {},
   "outputs": [
    {
     "data": {
      "text/plain": [
       "np.int64(0)"
      ]
     },
     "execution_count": 76,
     "metadata": {},
     "output_type": "execute_result"
    }
   ],
   "source": [
    "#checking for nan values after handling nan\n",
    "df_CombinedData['Comfort & Convenience'].isna().sum()"
   ]
  },
  {
   "cell_type": "markdown",
   "metadata": {},
   "source": [
    "6, column: 'Interior'"
   ]
  },
  {
   "cell_type": "code",
   "execution_count": 77,
   "metadata": {},
   "outputs": [
    {
     "data": {
      "text/plain": [
       "array([ 7., 12., 10., 11.,  8.,  9., 13., 15.,  6., 16., 14.,  4.,  3.,\n",
       "        5., nan,  2.,  1., 17., 18.])"
      ]
     },
     "execution_count": 77,
     "metadata": {},
     "output_type": "execute_result"
    }
   ],
   "source": [
    "df_CombinedData['Interior'].unique()"
   ]
  },
  {
   "cell_type": "code",
   "execution_count": 78,
   "metadata": {},
   "outputs": [],
   "source": [
    "# Group by 'Model' and apply the function to the 'Comfort & Convenience' column\n",
    "df_CombinedData['Interior'] = df_CombinedData.groupby('model')['Interior'].transform(fill_with_mode)"
   ]
  },
  {
   "cell_type": "code",
   "execution_count": 79,
   "metadata": {},
   "outputs": [
    {
     "data": {
      "text/plain": [
       "np.int64(10)"
      ]
     },
     "execution_count": 79,
     "metadata": {},
     "output_type": "execute_result"
    }
   ],
   "source": [
    "#checking for nan values\n",
    "df_CombinedData['Interior'].isna().sum()"
   ]
  },
  {
   "cell_type": "code",
   "execution_count": 80,
   "metadata": {},
   "outputs": [],
   "source": [
    "# As filling Null values by grouping the method , still nan values are there . so we are using mode to fill the nan values\n",
    "df_CombinedData['Interior'] = df_CombinedData['Interior'].fillna(df_CombinedData['Interior'].mode()[0])"
   ]
  },
  {
   "cell_type": "code",
   "execution_count": 81,
   "metadata": {},
   "outputs": [
    {
     "data": {
      "text/plain": [
       "np.int64(0)"
      ]
     },
     "execution_count": 81,
     "metadata": {},
     "output_type": "execute_result"
    }
   ],
   "source": [
    "#checking for nan values\n",
    "df_CombinedData['Interior'].isna().sum()"
   ]
  },
  {
   "cell_type": "markdown",
   "metadata": {},
   "source": [
    "7, column: 'Exterior'"
   ]
  },
  {
   "cell_type": "code",
   "execution_count": 82,
   "metadata": {},
   "outputs": [
    {
     "data": {
      "text/plain": [
       "array([ 5., 12., 13., 10., 15., 11., 16., 23.,  7., 14.,  8.,  9.,  6.,\n",
       "       20., 18.,  2., 19., 17.,  4.,  3., 22., 27., 26., 21., nan, 24.,\n",
       "        1., 25.])"
      ]
     },
     "execution_count": 82,
     "metadata": {},
     "output_type": "execute_result"
    }
   ],
   "source": [
    "df_CombinedData['Exterior'].unique()"
   ]
  },
  {
   "cell_type": "code",
   "execution_count": 83,
   "metadata": {},
   "outputs": [],
   "source": [
    "# Group by 'Model' and apply the function to the 'Comfort & Convenience' column\n",
    "df_CombinedData['Exterior'] = df_CombinedData.groupby('model')['Exterior'].transform(fill_with_mode)"
   ]
  },
  {
   "cell_type": "code",
   "execution_count": 84,
   "metadata": {},
   "outputs": [
    {
     "data": {
      "text/plain": [
       "np.int64(24)"
      ]
     },
     "execution_count": 84,
     "metadata": {},
     "output_type": "execute_result"
    }
   ],
   "source": [
    "#checking for nan values\n",
    "df_CombinedData['Exterior'].isna().sum()"
   ]
  },
  {
   "cell_type": "code",
   "execution_count": 86,
   "metadata": {},
   "outputs": [],
   "source": [
    "# As filling Null values by grouping the method , still nan values are there . so we are using mode to fill the nan values\n",
    "df_CombinedData['Exterior'] = df_CombinedData['Exterior'].fillna(df_CombinedData['Exterior'].mode()[0])"
   ]
  },
  {
   "cell_type": "code",
   "execution_count": 87,
   "metadata": {},
   "outputs": [
    {
     "data": {
      "text/plain": [
       "np.int64(0)"
      ]
     },
     "execution_count": 87,
     "metadata": {},
     "output_type": "execute_result"
    }
   ],
   "source": [
    "#checking for nan values\n",
    "df_CombinedData['Exterior'].isna().sum()"
   ]
  },
  {
   "cell_type": "markdown",
   "metadata": {},
   "source": [
    "8, column: 'Safety'"
   ]
  },
  {
   "cell_type": "code",
   "execution_count": 88,
   "metadata": {},
   "outputs": [
    {
     "data": {
      "text/plain": [
       "array([13., 27., 24., 18., 22., 17., 31., 29., 25., 20., 23., 33., 26.,\n",
       "       16., 37., 30., 38., 34., 36., 21., 45.,  6., 35., 19., 40., 14.,\n",
       "        7., 15., 28., 32., 10., 11., 12., 39., nan, 41., 42.,  8.,  9.,\n",
       "        1.,  5., 44., 48.])"
      ]
     },
     "execution_count": 88,
     "metadata": {},
     "output_type": "execute_result"
    }
   ],
   "source": [
    "df_CombinedData['Safety'].unique()"
   ]
  },
  {
   "cell_type": "code",
   "execution_count": 89,
   "metadata": {},
   "outputs": [],
   "source": [
    "# Group by 'Model' and apply the function to the 'Comfort & Convenience' column\n",
    "df_CombinedData['Safety'] = df_CombinedData.groupby('model')['Safety'].transform(fill_with_mode)"
   ]
  },
  {
   "cell_type": "code",
   "execution_count": 90,
   "metadata": {},
   "outputs": [
    {
     "data": {
      "text/plain": [
       "np.int64(20)"
      ]
     },
     "execution_count": 90,
     "metadata": {},
     "output_type": "execute_result"
    }
   ],
   "source": [
    "#checking for nan values\n",
    "df_CombinedData['Safety'].isna().sum()"
   ]
  },
  {
   "cell_type": "code",
   "execution_count": 91,
   "metadata": {},
   "outputs": [],
   "source": [
    "# As filling Null values by grouping the method , still nan values are there . so we are using mode to fill the nan values\n",
    "df_CombinedData['Safety'] = df_CombinedData['Safety'].fillna(df_CombinedData['Safety'].mode()[0])"
   ]
  },
  {
   "cell_type": "code",
   "execution_count": 92,
   "metadata": {},
   "outputs": [
    {
     "data": {
      "text/plain": [
       "np.int64(0)"
      ]
     },
     "execution_count": 92,
     "metadata": {},
     "output_type": "execute_result"
    }
   ],
   "source": [
    "#checking for nan values\n",
    "df_CombinedData['Exterior'].isna().sum()"
   ]
  },
  {
   "cell_type": "markdown",
   "metadata": {},
   "source": [
    "9, column: 'Entertainment & Communication'"
   ]
  },
  {
   "cell_type": "code",
   "execution_count": 93,
   "metadata": {},
   "outputs": [
    {
     "data": {
      "text/plain": [
       "array([nan,  9.,  8.,  7.,  5.,  6.,  4., 12., 11., 13., 10., 21.,  2.,\n",
       "        3.,  1., 15., 14., 16., 19., 17.])"
      ]
     },
     "execution_count": 93,
     "metadata": {},
     "output_type": "execute_result"
    }
   ],
   "source": [
    "df_CombinedData['Entertainment & Communication'].unique()"
   ]
  },
  {
   "cell_type": "code",
   "execution_count": 94,
   "metadata": {},
   "outputs": [],
   "source": [
    "# Group by 'Model' and apply the function to the 'Comfort & Convenience' column\n",
    "df_CombinedData['Entertainment & Communication'] = df_CombinedData.groupby('model')['Entertainment & Communication'].transform(fill_with_mode)"
   ]
  },
  {
   "cell_type": "code",
   "execution_count": 95,
   "metadata": {},
   "outputs": [
    {
     "data": {
      "text/plain": [
       "np.int64(120)"
      ]
     },
     "execution_count": 95,
     "metadata": {},
     "output_type": "execute_result"
    }
   ],
   "source": [
    "#checking for nan values\n",
    "df_CombinedData['Entertainment & Communication'].isna().sum()"
   ]
  },
  {
   "cell_type": "code",
   "execution_count": 96,
   "metadata": {},
   "outputs": [],
   "source": [
    "# As filling Null values by grouping the method , still nan values are there . so we are using mode to fill the nan values\n",
    "df_CombinedData['Entertainment & Communication'] = df_CombinedData['Entertainment & Communication'].fillna(df_CombinedData['Entertainment & Communication'].mode()[0])"
   ]
  },
  {
   "cell_type": "code",
   "execution_count": 97,
   "metadata": {},
   "outputs": [
    {
     "data": {
      "text/plain": [
       "np.int64(0)"
      ]
     },
     "execution_count": 97,
     "metadata": {},
     "output_type": "execute_result"
    }
   ],
   "source": [
    "#checking for nan values\n",
    "df_CombinedData['Entertainment & Communication'].isna().sum()"
   ]
  },
  {
   "cell_type": "markdown",
   "metadata": {},
   "source": [
    "10, column: 'Mileage'"
   ]
  },
  {
   "cell_type": "code",
   "execution_count": null,
   "metadata": {},
   "outputs": [],
   "source": [
    "# Fill NA values in Mileage based on Model and Fuel Type\n",
    "df_CombinedData['Mileage'] = df_CombinedData.groupby(['model', 'Fuel Type'])['Mileage'].transform(\n",
    "    lambda x: x.fillna(x.median())\n",
    ")"
   ]
  },
  {
   "cell_type": "code",
   "execution_count": 103,
   "metadata": {},
   "outputs": [
    {
     "data": {
      "text/plain": [
       "np.int64(84)"
      ]
     },
     "execution_count": 103,
     "metadata": {},
     "output_type": "execute_result"
    }
   ],
   "source": [
    "#checking for nan values\n",
    "df_CombinedData['Mileage'].isna().sum()"
   ]
  },
  {
   "cell_type": "code",
   "execution_count": 105,
   "metadata": {},
   "outputs": [],
   "source": [
    "# If some combinations of Model and Fuel Type have no mileage data, \n",
    "# we can Fallback to filling based on Fuel Type only\n",
    "df_CombinedData['Mileage'] = df_CombinedData.groupby('Fuel Type')['Mileage'].transform(\n",
    "    lambda x: x.fillna(x.median())\n",
    ")\n"
   ]
  },
  {
   "cell_type": "code",
   "execution_count": 106,
   "metadata": {},
   "outputs": [
    {
     "data": {
      "text/plain": [
       "np.int64(0)"
      ]
     },
     "execution_count": 106,
     "metadata": {},
     "output_type": "execute_result"
    }
   ],
   "source": [
    "#checking for nan values\n",
    "df_CombinedData['Mileage'].isna().sum()"
   ]
  },
  {
   "cell_type": "markdown",
   "metadata": {},
   "source": [
    "11, column: 'Max Power'"
   ]
  },
  {
   "cell_type": "code",
   "execution_count": 109,
   "metadata": {},
   "outputs": [],
   "source": [
    "# Compute median for each group\n",
    "group_median = df_CombinedData.groupby(['modelYear', 'model'])['Max Power'].transform('median')\n",
    "\n",
    "# Fill NaN values with group median or overall median\n",
    "df_CombinedData['Max Power'] = df_CombinedData['Max Power'].fillna(group_median).fillna(df_CombinedData['Max Power'].median())\n"
   ]
  },
  {
   "cell_type": "code",
   "execution_count": 110,
   "metadata": {},
   "outputs": [
    {
     "data": {
      "text/plain": [
       "np.int64(0)"
      ]
     },
     "execution_count": 110,
     "metadata": {},
     "output_type": "execute_result"
    }
   ],
   "source": [
    "df_CombinedData['Max Power'].isna().sum()"
   ]
  },
  {
   "cell_type": "markdown",
   "metadata": {},
   "source": [
    "12, column: 'Torque'"
   ]
  },
  {
   "cell_type": "code",
   "execution_count": 112,
   "metadata": {},
   "outputs": [],
   "source": [
    "# Compute median for each group\n",
    "group_median = df_CombinedData.groupby(['modelYear', 'model'])['Torque'].transform('median')\n",
    "\n",
    "# Fill NaN values with group median or overall median\n",
    "df_CombinedData['Torque'] = df_CombinedData['Torque'].fillna(group_median).fillna(df_CombinedData['Torque'].median())"
   ]
  },
  {
   "cell_type": "code",
   "execution_count": 113,
   "metadata": {},
   "outputs": [
    {
     "data": {
      "text/plain": [
       "np.int64(0)"
      ]
     },
     "execution_count": 113,
     "metadata": {},
     "output_type": "execute_result"
    }
   ],
   "source": [
    "df_CombinedData['Torque'].isna().sum()"
   ]
  }
 ],
 "metadata": {
  "kernelspec": {
   "display_name": "guviproj_env",
   "language": "python",
   "name": "python3"
  },
  "language_info": {
   "codemirror_mode": {
    "name": "ipython",
    "version": 3
   },
   "file_extension": ".py",
   "mimetype": "text/x-python",
   "name": "python",
   "nbconvert_exporter": "python",
   "pygments_lexer": "ipython3",
   "version": "3.13.0"
  }
 },
 "nbformat": 4,
 "nbformat_minor": 2
}
